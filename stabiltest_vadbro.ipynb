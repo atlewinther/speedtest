{
 "cells": [
  {
   "cell_type": "code",
   "execution_count": 6,
   "id": "32181e90",
   "metadata": {},
   "outputs": [
    {
     "ename": "KeyboardInterrupt",
     "evalue": "",
     "output_type": "error",
     "traceback": [
      "\u001b[0;31m---------------------------------------------------------------------------\u001b[0m",
      "\u001b[0;31mKeyboardInterrupt\u001b[0m                         Traceback (most recent call last)",
      "\u001b[0;32m<ipython-input-6-7549d1837983>\u001b[0m in \u001b[0;36m<module>\u001b[0;34m\u001b[0m\n\u001b[1;32m     19\u001b[0m         })\n\u001b[1;32m     20\u001b[0m         \u001b[0;31m# 60 seconds sleep\u001b[0m\u001b[0;34m\u001b[0m\u001b[0;34m\u001b[0m\u001b[0;34m\u001b[0m\u001b[0m\n\u001b[0;32m---> 21\u001b[0;31m         \u001b[0mtime\u001b[0m\u001b[0;34m.\u001b[0m\u001b[0msleep\u001b[0m\u001b[0;34m(\u001b[0m\u001b[0;36m60\u001b[0m\u001b[0;34m)\u001b[0m\u001b[0;34m\u001b[0m\u001b[0;34m\u001b[0m\u001b[0m\n\u001b[0m",
      "\u001b[0;31mKeyboardInterrupt\u001b[0m: "
     ]
    }
   ],
   "source": [
    "import speedtest\n",
    "import datetime\n",
    "import csv\n",
    "import time\n",
    "\n",
    "s = speedtest.Speedtest()\n",
    "\n",
    "with open('test_vadbro.csv', mode='w') as speedcsv:\n",
    "    csv_writer = csv.DictWriter(speedcsv, fieldnames=['tid', 'downspeed', 'upspeed'])\n",
    "    csv_writer.writeheader()\n",
    "    while True:\n",
    "        time_now = datetime.datetime.now().strftime(\"%H:%M:%S\")\n",
    "        downspeed = round((round(s.download()) / 1048576), 2)\n",
    "        upspeed = round((round(s.upload()) / 1048576), 2)\n",
    "        csv_writer.writerow({\n",
    "            'tid': time_now,\n",
    "            'downspeed': downspeed,\n",
    "            \"upspeed\": upspeed\n",
    "        })\n",
    "        # 60 seconds sleep\n",
    "        time.sleep(60)"
   ]
  },
  {
   "cell_type": "code",
   "execution_count": null,
   "id": "82a68ae8",
   "metadata": {},
   "outputs": [],
   "source": []
  }
 ],
 "metadata": {
  "kernelspec": {
   "display_name": "Python 3",
   "language": "python",
   "name": "python3"
  },
  "language_info": {
   "codemirror_mode": {
    "name": "ipython",
    "version": 3
   },
   "file_extension": ".py",
   "mimetype": "text/x-python",
   "name": "python",
   "nbconvert_exporter": "python",
   "pygments_lexer": "ipython3",
   "version": "3.9.2"
  }
 },
 "nbformat": 4,
 "nbformat_minor": 5
}
